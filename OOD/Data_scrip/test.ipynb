{
 "cells": [
  {
   "cell_type": "code",
   "execution_count": 4,
   "metadata": {},
   "outputs": [
    {
     "name": "stdout",
     "output_type": "stream",
     "text": [
      "2\n",
      "1\n",
      "blast off\n"
     ]
    }
   ],
   "source": [
    "import time\n",
    "n = int(input(\"enter number\"))\n",
    "while True:\n",
    "    #print oreder n!\n",
    "    if n == 0:\n",
    "        break\n",
    "    else:\n",
    "        print(n)\n",
    "        n -= 1\n",
    "        time.sleep(1)\n",
    "print(\"blast off\")"
   ]
  }
 ],
 "metadata": {
  "kernelspec": {
   "display_name": "Python 3",
   "language": "python",
   "name": "python3"
  },
  "language_info": {
   "codemirror_mode": {
    "name": "ipython",
    "version": 3
   },
   "file_extension": ".py",
   "mimetype": "text/x-python",
   "name": "python",
   "nbconvert_exporter": "python",
   "pygments_lexer": "ipython3",
   "version": "3.11.3"
  },
  "orig_nbformat": 4
 },
 "nbformat": 4,
 "nbformat_minor": 2
}
